{
 "cells": [
  {
   "cell_type": "code",
   "execution_count": 43,
   "metadata": {
    "collapsed": true
   },
   "outputs": [],
   "source": [
    "# Imports\n",
    "import glob\n",
    "import csv\n",
    "from gensim.models.phrases import Phrases, Phraser\n",
    "from nltk.corpus import stopwords\n",
    "from gensim.corpora import Dictionary\n",
    "from gensim.models import CoherenceModel, LdaModel, LsiModel, HdpModel\n",
    "import timeit\n",
    "import utils\n",
    "import pprint\n",
    "from sklearn.model_selection import train_test_split\n",
    "import matplotlib.pyplot as plt"
   ]
  },
  {
   "cell_type": "code",
   "execution_count": 19,
   "metadata": {
    "collapsed": true
   },
   "outputs": [],
   "source": [
    "# Split Data in Training and Testing set\n",
    "srch_str = 'dialogs/4/*.tsv'\n",
    "all_files = sorted(glob.glob(srch_str))\n",
    "X_train, X_test= train_test_split(all_files, test_size=0.1, random_state=0)"
   ]
  },
  {
   "cell_type": "code",
   "execution_count": 20,
   "metadata": {},
   "outputs": [
    {
     "data": {
      "text/plain": [
       "['dialogs/4/92237.tsv',\n",
       " 'dialogs/4/133611.tsv',\n",
       " 'dialogs/4/251383.tsv',\n",
       " 'dialogs/4/61098.tsv',\n",
       " 'dialogs/4/97786.tsv',\n",
       " 'dialogs/4/209410.tsv',\n",
       " 'dialogs/4/178701.tsv',\n",
       " 'dialogs/4/5544.tsv',\n",
       " 'dialogs/4/11152.tsv',\n",
       " 'dialogs/4/208348.tsv']"
      ]
     },
     "execution_count": 20,
     "metadata": {},
     "output_type": "execute_result"
    }
   ],
   "source": [
    "# Peek into Training Set\n",
    "X_train[:10]"
   ]
  },
  {
   "cell_type": "code",
   "execution_count": 21,
   "metadata": {},
   "outputs": [
    {
     "data": {
      "text/plain": [
       "['dialogs/4/78303.tsv',\n",
       " 'dialogs/4/197806.tsv',\n",
       " 'dialogs/4/119980.tsv',\n",
       " 'dialogs/4/25704.tsv',\n",
       " 'dialogs/4/963.tsv',\n",
       " 'dialogs/4/214077.tsv',\n",
       " 'dialogs/4/80273.tsv',\n",
       " 'dialogs/4/208635.tsv',\n",
       " 'dialogs/4/34820.tsv',\n",
       " 'dialogs/4/126671.tsv']"
      ]
     },
     "execution_count": 21,
     "metadata": {},
     "output_type": "execute_result"
    }
   ],
   "source": [
    "# Peek into Testing Set\n",
    "X_test[:10]"
   ]
  },
  {
   "cell_type": "code",
   "execution_count": 100,
   "metadata": {},
   "outputs": [
    {
     "name": "stdout",
     "output_type": "stream",
     "text": [
      "Help on function lemmatize_pos in module utils:\n",
      "\n",
      "lemmatize_pos(text)\n",
      "    Helper function to Remove POS tags with gensim Lemmatize\n",
      "    Input: {text}\n",
      "    -- text = String of words\n",
      "    Output: {result}\n",
      "    -- result = List with POS tags starting with 'J' and 'V' removed\n",
      "    Note:\n",
      "        Please run from within create_data()\n",
      "\n"
     ]
    }
   ],
   "source": [
    "help(utils.lemmatize_pos)"
   ]
  },
  {
   "cell_type": "code",
   "execution_count": 135,
   "metadata": {},
   "outputs": [
    {
     "name": "stdout",
     "output_type": "stream",
     "text": [
      "\u001b[1m0 :  \u001b[0m ['just', 'bit', 'skype', 'let', 'bit', 'also', 'help', 'codec', 'music', 'film', 'tutorial', 'ubuntu', 'forum', 'here', 'ubuntuforum', 'showthread', 'highlight', 'skype', 'way', 'tutorial'] \n",
      "\n",
      "\u001b[1m1 :  \u001b[0m ['pavillion', 'driver', 'mouse', 'tom', 'storm', 'thank', 'tom'] \n",
      "\n",
      "\u001b[1m2 :  \u001b[0m ['change', 'screen', 'resolution', 'message', 'server', 'not', 'extension', 'way', 'working', 'well', 'log', 'out', 'gdm', 'configure', 'root', 'then', 'root', 'config', 'etc', 'config', 'xorg', 'conf', 'just', 'ati', 'driver', 'matter', 'still', 'configureit', 'nvidia', 'driver', 'atus'] \n",
      "\n",
      "\u001b[1m3 :  \u001b[0m ['type', 'asoundconf', 'gtk', 'default', 'configuration', 'file', 'asoundrc', 'asoundconf', 'asoundrc', 'text', 'editor', 'there', 'line', 'asound', 'tellign', 'file', 'asoundconf', 'not', 'anywhere', 'type', 'sorry', 'not', 'ubuntu', 'dot', 'maybe', 'somebody', 'here', 'look', 'oyu'] \n",
      "\n",
      "\u001b[1m4 :  \u001b[0m ['anyone', 'network', 'mount', 'dev', 'xxx', 'mnt', 'yyywhat', 'problemugh', 'irc', 'client'] \n",
      "\n"
     ]
    }
   ],
   "source": [
    "# Compare effect of \"more involved\" lemmatization True vs False\n",
    "num = 5\n",
    "start_time = timeit.default_timer()\n",
    "corpus_ = utils.create_data(X_train[:num], lemmat=True)            \n",
    "elapsed_true = timeit.default_timer() - start_time\n",
    "pp = pprint.PrettyPrinter(indent=1, width = 12)\n",
    "utils.prettyPrint(corpus_) "
   ]
  },
  {
   "cell_type": "code",
   "execution_count": 136,
   "metadata": {},
   "outputs": [
    {
     "name": "stdout",
     "output_type": "stream",
     "text": [
      "\u001b[1m0 :  \u001b[0m [u'hello', u'all', u'just', u'installed', u'bit', u'and', u'need', u'help', u'installing', u'skype', u'won', u'let', u'because', u'bit', u'also', u'need', u'some', u'help', u'installing', u'codecs', u'for', u'music', u'and', u'films', u'there', u'was', u'tutorial', u'the', u'ubuntu', u'forums', u'here', u'http', u'ubuntuforums', u'org', u'showthread', u'php', u'highlight', u'skype', u'amd', u'you', u'have', u'link', u'way', u'locate', u'the', u'tutorial'] \n",
      "\n",
      "\u001b[1m1 :  \u001b[0m [u'installing', u'linux', u'laptop', u'its', u'pavillion', u'will', u'need', u'special', u'drivers', u'for', u'the', u'mouse', u'and', u'such', u'nice', u'tom', u'storm', u'thanks', u'was', u'that', u'nice', u'tom', u'for'] \n",
      "\n",
      "\u001b[1m2 :  \u001b[0m [u'when', u'try', u'change', u'screen', u'resolution', u'get', u'message', u'saying', u'the', u'server', u'does', u'not', u'support', u'the', u'xrandr', u'extension', u'think', u'better', u'way', u'get', u'working', u'well', u'this', u'log', u'out', u'shut', u'down', u'gdm', u'configure', u'root', u'and', u'then', u'copy', u'the', u'resulting', u'root', u'config', u'etc', u'config', u'xorg', u'conf', u'depending', u'whether', u'you', u'run', u'org', u'xfree', u'just', u'installed', u'the', u'new', u'ati', u'drivers', u'does', u'that', u'matter', u'should', u'still', u'try', u'configureit', u'worked', u'for', u'with', u'nvidia', u'drivers', u'should', u'work', u'with', u'ati'] \n",
      "\n",
      "\u001b[1m3 :  \u001b[0m [u'when', u'type', u'asoundconf', u'gtk', u'responds', u'you', u'need', u'make', u'sure', u'asoundconf', u'active', u'default', u'asoundconf', u'configuration', u'file', u'asoundrc', u'asoundconf', u'and', u'must', u'included', u'asoundrc', u'open', u'this', u'file', u'make', u'sure', u'don', u'understand', u'what', u'wants', u'open', u'asoundrc', u'text', u'editor', u'and', u'see', u'there', u'line', u'pointing', u'the', u'asoundrc', u'asound', u'conf', u'file', u'that', u'what', u'tellign', u'you', u'doi', u'looked', u'that', u'file', u'and', u'asoundrc', u'asoundconf', u'not', u'mentioned', u'anywhere', u'don', u'know', u'what', u'wants', u'type', u'into', u'the', u'file', u'sorry', u'but', u'not', u'running', u'ubuntu', u'can', u'tell', u'you', u'what', u'its', u'suppose', u'dot', u'look', u'like', u'maybe', u'somebody', u'else', u'here', u'can', u'take', u'look', u'for', u'oyu'] \n",
      "\n",
      "\u001b[1m4 :  \u001b[0m [u'anyone', u'around', u'for', u'network', u'related', u'mount', u'dev', u'xxx', u'mnt', u'yyywhat', u'the', u'problemugh', u'hang', u'let', u'get', u'decent', u'irc', u'client'] \n",
      "\n"
     ]
    }
   ],
   "source": [
    "# Compare Lemmat true vs False\n",
    "start_time = timeit.default_timer()\n",
    "corpus_ = utils.create_data(X_train[:num], lemmat=False)            \n",
    "elapsed_false = timeit.default_timer() - start_time\n",
    "pp = pprint.PrettyPrinter(indent=4)\n",
    "utils.prettyPrint(corpus_)"
   ]
  },
  {
   "cell_type": "code",
   "execution_count": 137,
   "metadata": {},
   "outputs": [
    {
     "name": "stdout",
     "output_type": "stream",
     "text": [
      "Elapsed time for 5 files with Lemmatize is 0.0543961524963 sec and 0.0023021697998 sec without Lemmatize. This is a 23.6282104391 times slowdown at the cost of better outputs\n"
     ]
    }
   ],
   "source": [
    "# Comparison \n",
    "print('Elapsed time for {} files with Lemmatize is {} sec and {} sec without Lemmatize. This is a {} times slowdown at the cost of better outputs'.format(num, elapsed_true, elapsed_false, elapsed_true/float(elapsed_false)))"
   ]
  },
  {
   "cell_type": "markdown",
   "metadata": {},
   "source": [
    "## If we only could look ahead in future to see, if this is worth it ?\n",
    "### With lemmatize\n",
    "![alt text](lemmatize.png)\n",
    "### Without Lemmatize\n",
    "![alt text](no_lemmatize.png)\n",
    "\n",
    "As it is evident that with the best model(LDA), using lemmatize has no return on our investment of time, we skip this high compute process."
   ]
  },
  {
   "cell_type": "code",
   "execution_count": 122,
   "metadata": {},
   "outputs": [
    {
     "name": "stdout",
     "output_type": "stream",
     "text": [
      "Help on function create_data in module utils:\n",
      "\n",
      "create_data(files, lemmat)\n",
      "    Helper function to create data from .tsv files by appling simple_preprocess using gensim and\n",
      "    lemmatize(optional)\n",
      "    Input: {files, lemmat}\n",
      "    -- files = List of input file directories using glob.glob\n",
      "    -- lemmat = Boolean {True, False} To enabale lemmatize by removing pos starting with J or V\n",
      "    Output: {corpus_}\n",
      "    -- corpus_ = Corpus of words as a list of list, with each list containig processed words from each\n",
      "     document\n",
      "\n"
     ]
    }
   ],
   "source": [
    "help(utils.create_data)"
   ]
  },
  {
   "cell_type": "code",
   "execution_count": 26,
   "metadata": {},
   "outputs": [],
   "source": [
    "# Stick with Lemmatize False\n",
    "corpus_ = utils.create_data(sorted(X_train), lemmat=False)            "
   ]
  },
  {
   "cell_type": "code",
   "execution_count": 138,
   "metadata": {},
   "outputs": [
    {
     "name": "stdout",
     "output_type": "stream",
     "text": [
      "\u001b[1m0 :  \u001b[0m [u'hello', u'all', u'just', u'installed', u'bit', u'and', u'need', u'help', u'installing', u'skype', u'won', u'let', u'because', u'bit', u'also', u'need', u'some', u'help', u'installing', u'codecs', u'for', u'music', u'and', u'films', u'there', u'was', u'tutorial', u'the', u'ubuntu', u'forums', u'here', u'http', u'ubuntuforums', u'org', u'showthread', u'php', u'highlight', u'skype', u'amd', u'you', u'have', u'link', u'way', u'locate', u'the', u'tutorial'] \n",
      "\n",
      "\u001b[1m1 :  \u001b[0m [u'installing', u'linux', u'laptop', u'its', u'pavillion', u'will', u'need', u'special', u'drivers', u'for', u'the', u'mouse', u'and', u'such', u'nice', u'tom', u'storm', u'thanks', u'was', u'that', u'nice', u'tom', u'for'] \n",
      "\n",
      "\u001b[1m2 :  \u001b[0m [u'when', u'try', u'change', u'screen', u'resolution', u'get', u'message', u'saying', u'the', u'server', u'does', u'not', u'support', u'the', u'xrandr', u'extension', u'think', u'better', u'way', u'get', u'working', u'well', u'this', u'log', u'out', u'shut', u'down', u'gdm', u'configure', u'root', u'and', u'then', u'copy', u'the', u'resulting', u'root', u'config', u'etc', u'config', u'xorg', u'conf', u'depending', u'whether', u'you', u'run', u'org', u'xfree', u'just', u'installed', u'the', u'new', u'ati', u'drivers', u'does', u'that', u'matter', u'should', u'still', u'try', u'configureit', u'worked', u'for', u'with', u'nvidia', u'drivers', u'should', u'work', u'with', u'ati'] \n",
      "\n",
      "\u001b[1m3 :  \u001b[0m [u'when', u'type', u'asoundconf', u'gtk', u'responds', u'you', u'need', u'make', u'sure', u'asoundconf', u'active', u'default', u'asoundconf', u'configuration', u'file', u'asoundrc', u'asoundconf', u'and', u'must', u'included', u'asoundrc', u'open', u'this', u'file', u'make', u'sure', u'don', u'understand', u'what', u'wants', u'open', u'asoundrc', u'text', u'editor', u'and', u'see', u'there', u'line', u'pointing', u'the', u'asoundrc', u'asound', u'conf', u'file', u'that', u'what', u'tellign', u'you', u'doi', u'looked', u'that', u'file', u'and', u'asoundrc', u'asoundconf', u'not', u'mentioned', u'anywhere', u'don', u'know', u'what', u'wants', u'type', u'into', u'the', u'file', u'sorry', u'but', u'not', u'running', u'ubuntu', u'can', u'tell', u'you', u'what', u'its', u'suppose', u'dot', u'look', u'like', u'maybe', u'somebody', u'else', u'here', u'can', u'take', u'look', u'for', u'oyu'] \n",
      "\n",
      "\u001b[1m4 :  \u001b[0m [u'anyone', u'around', u'for', u'network', u'related', u'mount', u'dev', u'xxx', u'mnt', u'yyywhat', u'the', u'problemugh', u'hang', u'let', u'get', u'decent', u'irc', u'client'] \n",
      "\n"
     ]
    }
   ],
   "source": [
    "# Peek into Corpus\n",
    "utils.prettyPrint(corpus_[0:5])"
   ]
  },
  {
   "cell_type": "code",
   "execution_count": 28,
   "metadata": {},
   "outputs": [
    {
     "data": {
      "text/plain": [
       "[u'Ubuntu', u'gnome shell']"
      ]
     },
     "execution_count": 28,
     "metadata": {},
     "output_type": "execute_result"
    }
   ],
   "source": [
    "# Bigram Creation\n",
    "bigram = Phrases(corpus_, min_count=2, threshold=2, delimiter=b' ')\n",
    "bigram_ = Phraser(bigram)\n",
    "tokens_ = bigram_[corpus_]\n",
    "# Investigate bigrams\n",
    "bigram_[['Ubuntu', 'gnome', 'shell']]"
   ]
  },
  {
   "cell_type": "code",
   "execution_count": 29,
   "metadata": {
    "collapsed": true
   },
   "outputs": [],
   "source": [
    "# NLTK Stop words\n",
    "stops = set(stopwords.words('english'))  # nltk stopwords list"
   ]
  },
  {
   "cell_type": "code",
   "execution_count": 55,
   "metadata": {
    "collapsed": true
   },
   "outputs": [],
   "source": [
    "# Create Bag of Word corpus for training set\n",
    "train_texts = utils.process_texts(corpus_, stops, bigram_)\n",
    "dictionary = Dictionary(train_texts)\n",
    "corpus = [dictionary.doc2bow(text) for text in train_texts]"
   ]
  },
  {
   "cell_type": "code",
   "execution_count": 134,
   "metadata": {},
   "outputs": [
    {
     "name": "stdout",
     "output_type": "stream",
     "text": [
      "\u001b[1m0 :  \u001b[0m [(0, 1), (1, 1), (2, 1), (3, 1), (4, 1), (5, 1), (6, 1), (7, 1), (8, 1), (9, 1), (10, 1)] \n",
      "\n",
      "\u001b[1m1 :  \u001b[0m [(11, 1), (12, 1), (13, 1), (14, 1), (15, 2), (16, 1), (17, 1), (18, 1), (19, 1), (20, 1), (21, 1), (22, 1), (23, 1), (24, 1), (25, 2), (26, 1), (27, 1), (28, 1)] \n",
      "\n",
      "\u001b[1m2 :  \u001b[0m [(29, 1), (30, 1), (31, 1), (32, 1), (33, 1), (34, 1), (35, 1), (36, 1), (37, 1), (38, 1), (39, 1), (40, 1), (41, 1)] \n",
      "\n",
      "\u001b[1m3 :  \u001b[0m [(42, 2), (43, 1), (44, 1), (45, 1), (46, 1), (47, 1), (48, 1), (49, 1), (50, 1), (51, 1), (52, 1), (53, 1), (54, 1), (55, 1), (56, 1), (57, 1), (58, 1)] \n",
      "\n",
      "\u001b[1m4 :  \u001b[0m [(59, 1), (60, 2), (61, 1), (62, 1), (63, 1), (64, 2), (65, 1), (66, 1), (67, 1), (68, 1), (69, 1), (70, 1), (71, 1)] \n",
      "\n"
     ]
    }
   ],
   "source": [
    "# Structure of Corpus as Bag of Words\n",
    "utils.prettyPrint(corpus[:5])"
   ]
  },
  {
   "cell_type": "code",
   "execution_count": 31,
   "metadata": {
    "collapsed": true
   },
   "outputs": [],
   "source": [
    "# Topic Modelling -- LSI\n",
    "lsimodel = LsiModel(corpus=corpus, num_topics=10, id2word=dictionary)\n",
    "lsimodel.show_topics(num_topics=10)\n",
    "lsitopics = lsimodel.show_topics(formatted=False)"
   ]
  },
  {
   "cell_type": "code",
   "execution_count": 139,
   "metadata": {},
   "outputs": [
    {
     "name": "stdout",
     "output_type": "stream",
     "text": [
      "\u001b[1m0 :  \u001b[0m [u'ubuntu', u'install', u'get', u'use', u'help', u'know', u'windows', u'need', u'anyone', u'like'] \n",
      "\n",
      "\u001b[1m1 :  \u001b[0m [u'lamers', u'ubuntu', u'get', u'install', u'apt', u'sudo', u'know', u'file', u'need', u'anyone'] \n",
      "\n",
      "\u001b[1m2 :  \u001b[0m [u'ubuntu', u'lamers', u'get', u'install', u'apt', u'sudo', u'know', u'file', u'need', u'anyone'] \n",
      "\n",
      "\u001b[1m3 :  \u001b[0m [u'use', u'install', u'get', u'paste', u'ubuntu', u'apt', u'http', u'enter', u'flood', u'punctuation'] \n",
      "\n",
      "\u001b[1m4 :  \u001b[0m [u'com', u'get', u'windows', u'http', u'apt', u'paste', u'boot', u'linux', u'know', u'like'] \n",
      "\n",
      "\u001b[1m5 :  \u001b[0m [u'feces', u'install', u'use', u'help', u'anyone', u'know', u'com', u'http', u'windows', u'www'] \n",
      "\n",
      "\u001b[1m6 :  \u001b[0m [u'nyan', u'feces', u'use', u'install', u'know', u'help', u'anyone', u'linux', u'apt', u'ubuntu'] \n",
      "\n",
      "\u001b[1m7 :  \u001b[0m [u'linux', u'sucks', u'love', u'cock', u'com', u'file', u'microsoft', u'http', u'get', u'know'] \n",
      "\n",
      "\u001b[1m8 :  \u001b[0m [u'love', u'cock', u'linux', u'sucks', u'lamp', u'know', u'feces', u'com', u'http', u'microsoft'] \n",
      "\n",
      "\u001b[1m9 :  \u001b[0m [u'echo', u'vomit', u'feces', u'use', u'epic', u'file', u'help', u'sucks', u'paste', u'epicplease'] \n",
      "\n"
     ]
    }
   ],
   "source": [
    "utils.prettyPrint(lsitopics)"
   ]
  },
  {
   "cell_type": "code",
   "execution_count": 33,
   "metadata": {},
   "outputs": [],
   "source": [
    "# HDP\n",
    "hdpmodel = HdpModel(corpus=corpus, id2word=dictionary)\n",
    "hdpmodel.show_topics()\n",
    "hdptopics = hdpmodel.show_topics(formatted=False)"
   ]
  },
  {
   "cell_type": "code",
   "execution_count": 140,
   "metadata": {},
   "outputs": [
    {
     "name": "stdout",
     "output_type": "stream",
     "text": [
      "\u001b[1m0 :  \u001b[0m [u'ubuntu', u'get', u'install', u'use', u'know', u'help', u'anyone', u'need', u'like', u'want', u'try', u'apt', u'one', u'using', u'file', u'sudo', u'installed', u'windows', u'would', u'linux'] \n",
      "\n",
      "\u001b[1m1 :  \u001b[0m [u'ubuntu', u'install', u'get', u'use', u'know', u'windows', u'like', u'anyone', u'help', u'need', u'want', u'one', u'using', u'linux', u'boot', u'try', u'would', u'file', u'installed', u'partition'] \n",
      "\n",
      "\u001b[1m2 :  \u001b[0m [u'ubuntu', u'use', u'get', u'install', u'know', u'help', u'anyone', u'need', u'like', u'windows', u'using', u'want', u'http', u'one', u'linux', u'try', u'com', u'installed', u'file', u'work'] \n",
      "\n",
      "\u001b[1m3 :  \u001b[0m [u'ubuntu', u'get', u'install', u'use', u'know', u'help', u'like', u'anyone', u'need', u'want', u'using', u'one', u'file', u'try', u'linux', u'windows', u'would', u'installed', u'work', u'apt'] \n",
      "\n",
      "\u001b[1m4 :  \u001b[0m [u'ubuntu', u'get', u'install', u'use', u'know', u'like', u'anyone', u'help', u'need', u'want', u'one', u'windows', u'using', u'try', u'linux', u'file', u'would', u'installed', u'work', u'way'] \n",
      "\n",
      "\u001b[1m5 :  \u001b[0m [u'ubuntu', u'get', u'install', u'use', u'know', u'like', u'anyone', u'help', u'need', u'want', u'try', u'one', u'linux', u'windows', u'file', u'using', u'installed', u'would', u'work', u'apt'] \n",
      "\n",
      "\u001b[1m6 :  \u001b[0m [u'ubuntu', u'get', u'install', u'use', u'know', u'anyone', u'help', u'like', u'need', u'want', u'file', u'one', u'linux', u'windows', u'using', u'try', u'would', u'installed', u'work', u'apt'] \n",
      "\n",
      "\u001b[1m7 :  \u001b[0m [u'ubuntu', u'install', u'get', u'use', u'know', u'anyone', u'like', u'help', u'need', u'want', u'one', u'linux', u'using', u'windows', u'try', u'file', u'installed', u'would', u'work', u'apt'] \n",
      "\n",
      "\u001b[1m8 :  \u001b[0m [u'ubuntu', u'get', u'install', u'use', u'know', u'anyone', u'help', u'like', u'need', u'want', u'linux', u'one', u'file', u'using', u'windows', u'try', u'would', u'work', u'installed', u'apt'] \n",
      "\n",
      "\u001b[1m9 :  \u001b[0m [u'ubuntu', u'get', u'install', u'use', u'know', u'anyone', u'help', u'like', u'need', u'want', u'one', u'linux', u'file', u'using', u'windows', u'try', u'would', u'work', u'installed', u'apt'] \n",
      "\n"
     ]
    }
   ],
   "source": [
    "utils.prettyPrint(hdptopics[:10])"
   ]
  },
  {
   "cell_type": "code",
   "execution_count": 36,
   "metadata": {
    "collapsed": true
   },
   "outputs": [],
   "source": [
    "# LDA\n",
    "ldamodel = LdaModel(corpus=corpus, num_topics=10, id2word=dictionary)\n",
    "ldatopics = ldamodel.show_topics(formatted=False)"
   ]
  },
  {
   "cell_type": "code",
   "execution_count": 141,
   "metadata": {},
   "outputs": [
    {
     "name": "stdout",
     "output_type": "stream",
     "text": [
      "\u001b[1m0 :  \u001b[0m [u'usb', u'drive', u'mount', u'dev', u'iso', u'dvd', u'device', u'hard', u'ntfs', u'disk'] \n",
      "\n",
      "\u001b[1m1 :  \u001b[0m [u'install', u'get', u'apt', u'package', u'sudo', u'installed', u'ubuntu', u'firefox', u'packages', u'flash'] \n",
      "\n",
      "\u001b[1m2 :  \u001b[0m [u'ubuntu', u'install', u'boot', u'grub', u'windows', u'partition', u'get', u'installed', u'upgrade', u'problem'] \n",
      "\n",
      "\u001b[1m3 :  \u001b[0m [u'file', u'command', u'sudo', u'files', u'user', u'root', u'etc', u'log', u'use', u'home'] \n",
      "\n",
      "\u001b[1m4 :  \u001b[0m [u'card', u'bit', u'driver', u'drivers', u'nvidia', u'xorg', u'kernel', u'work', u'ubuntu', u'wireless'] \n",
      "\n",
      "\u001b[1m5 :  \u001b[0m [u'server', u'network', u'ubuntu', u'use', u'ssh', u'desktop', u'connect', u'using', u'internet', u'kde'] \n",
      "\n",
      "\u001b[1m6 :  \u001b[0m [u'ubuntu', u'http', u'com', u'org', u'www', u'php', u'help', u'https', u'paste', u'google'] \n",
      "\n",
      "\u001b[1m7 :  \u001b[0m [u'ubuntu', u'help', u'anyone', u'know', u'ask', u'channel', u'question', u'please', u'someone', u'support'] \n",
      "\n",
      "\u001b[1m8 :  \u001b[0m [u'gnome', u'click', u'compiz', u'screen', u'window', u'right', u'desktop', u'alt', u'system', u'settings'] \n",
      "\n",
      "\u001b[1m9 :  \u001b[0m [u'like', u'windows', u'use', u'linux', u'ubuntu', u'know', u'good', u'would', u'one', u'way'] \n",
      "\n"
     ]
    }
   ],
   "source": [
    "utils.prettyPrint(ldatopics)"
   ]
  },
  {
   "cell_type": "code",
   "execution_count": 38,
   "metadata": {
    "collapsed": true
   },
   "outputs": [],
   "source": [
    "# Evaluation\n",
    "lsitopics = [[word for word, prob in topic] for topicid, topic in lsitopics]\n",
    "hdptopics = [[word for word, prob in topic] for topicid, topic in hdptopics]\n",
    "ldatopics = [[word for word, prob in topic] for topicid, topic in ldatopics]"
   ]
  },
  {
   "cell_type": "code",
   "execution_count": 39,
   "metadata": {
    "collapsed": true
   },
   "outputs": [],
   "source": [
    "# Coherence\n",
    "lsi_coherence = CoherenceModel(topics=lsitopics[:10], texts=train_texts, dictionary=dictionary, window_size=10).get_coherence()\n",
    "hdp_coherence = CoherenceModel(topics=hdptopics[:10], texts=train_texts, dictionary=dictionary, window_size=10).get_coherence()\n",
    "lda_coherence = CoherenceModel(topics=ldatopics, texts=train_texts, dictionary=dictionary, window_size=10).get_coherence()"
   ]
  },
  {
   "cell_type": "code",
   "execution_count": 41,
   "metadata": {},
   "outputs": [
    {
     "name": "stdout",
     "output_type": "stream",
     "text": [
      "Help on function evaluate_bar_graph in module utils:\n",
      "\n",
      "evaluate_bar_graph(coherences, indices)\n",
      "    Function to plot bar graph.\n",
      "    \n",
      "    coherences: list of coherence values\n",
      "    indices: Indices to be used to mark bars. Length of this and coherences should be equal.\n",
      "\n"
     ]
    }
   ],
   "source": [
    "help(utils.evaluate_bar_graph)"
   ]
  },
  {
   "cell_type": "code",
   "execution_count": 46,
   "metadata": {},
   "outputs": [
    {
     "data": {
      "image/png": "[encoded data removed]",
      "text/plain": [
       "<matplotlib.figure.Figure at 0x7f024e561050>"
      ]
     },
     "metadata": {},
     "output_type": "display_data"
    }
   ],
   "source": [
    "plt = utils.evaluate_bar_graph([lsi_coherence, hdp_coherence, lda_coherence], ['LSI', 'HDP', 'LDA'])\n",
    "plt.show()"
   ]
  },
  {
   "cell_type": "markdown",
   "metadata": {},
   "source": [
    "## LSI vs HDP vs LDA\n",
    "As it is evident from the structure of outputs from LSI, LDA and HDP models, LDA captures the different models better as compared to the other two. In case of LSI, although a first few topics are relevant, they seemingly become more unrelated as we go down the list. With HDP, the output is just the same topic for all the 10 occurences. LDA on the other hand produces mmore coherrent topics. This is also supported by the coherence bar plot that puts LDA at the top. For this reason, predictions on the test set is produced by using the LDA model "
   ]
  },
  {
   "cell_type": "code",
   "execution_count": 92,
   "metadata": {},
   "outputs": [],
   "source": [
    "# Test on Unseen Data\n",
    "corpus_te = utils.create_data(sorted(X_test), lemmat=True)      \n",
    "test_texts = utils.process_texts(corpus_te, stops, bigram_test)\n",
    "corpus_test = [dictionary.doc2bow(text) for text in test_texts]\n",
    "outputs = ldamodel[corpus_test]"
   ]
  },
  {
   "cell_type": "code",
   "execution_count": 151,
   "metadata": {},
   "outputs": [
    {
     "data": {
      "text/plain": [
       "[(2, 0.14189858267178726),\n",
       " (3, 0.13215307025629125),\n",
       " (4, 0.19568276684415192),\n",
       " (5, 0.4986819948750785)]"
      ]
     },
     "execution_count": 151,
     "metadata": {},
     "output_type": "execute_result"
    }
   ],
   "source": [
    "# Peek into Outputs\n",
    "idx = 0\n",
    "outputs[idx]"
   ]
  },
  {
   "cell_type": "code",
   "execution_count": 191,
   "metadata": {},
   "outputs": [
    {
     "name": "stdout",
     "output_type": "stream",
     "text": [
      "\u001b[1m\n",
      "Text \u001b[0m\n",
      "Okay, thanks, how would I add Vista to it? I was told that I should use a recovery disc to run the fixmbr command...is that another option? Oh and I have a USB stick...could I possibly fix the mbr that way?you can install ubuntu on usb stick and recover windows mbr with windows cdget ubuntu iso and unetbootinunetbootin\n",
      "\u001b[1mPredicted Topic \u001b[0m\n",
      "gnome click compiz screen window right desktop alt system settings \n",
      "\n",
      "\u001b[1m\n",
      "Text \u001b[0m\n",
      "sudu ifup eth0 is that renew IP?that brings up an interface, not necessarily renew the DHCP lease.well you have to do sudo ifdown eth0 first?even then, an ifup doesn't necessarily renew a DHCP lease.\n",
      "\u001b[1mPredicted Topic \u001b[0m\n",
      "like windows use linux ubuntu know good would one way \n",
      "\n",
      "\u001b[1m\n",
      "Text \u001b[0m\n",
      "I might have done something catastrophic to my computer.  I hope someone can help. I get the strangest warning when I log in now. Every time.....what does it sayYou'll probably need to go to the terminal and edit the permissions using sudo/sudo what lyag said to do. that'll probably fix it.\n",
      "\u001b[1mPredicted Topic \u001b[0m\n",
      "file command sudo files user root etc log use home \n",
      "\n",
      "\u001b[1m\n",
      "Text \u001b[0m\n",
      "Yesterday I shrunk my partitions using Gparted (shrunk NTFS (Vista), grew ext3), and everything went almost well. Windows wouldn't work anyore as it kept booting into the EISA partition instead but I didn't let that bother me since Ubuntu was workin fine. Today the ext3 filesystem went into read-only mode, and when I rebooted, it did a fsck and then told me to do it manually. I went into the LiveCD and did sudo fsck -y /dev/sda3 and it said*** ext3 journal has been deleted - filesystem is now ext2 only ***. How do I mount this? I need to recover a few things before I format and start overtry to mount it as ext2How?\n",
      "\u001b[1mPredicted Topic \u001b[0m\n",
      "like windows use linux ubuntu know good would one way \n",
      "\n",
      "\u001b[1m\n",
      "Text \u001b[0m\n",
      "hello, Ubuntu 11.04 on my laptop is really slow browsing on the internet or even pingining sites like google takes too long (it takes 36791ms to  \"ping -c 5 google.com\"), i have gentoo installed on vmware in the same laptop and the internet is allright, any ideas?how long does it take to `nslookup google.com` ?Or, pick something you haven't tested recently, nslookup yahoo.comits almost instantly\n",
      "\u001b[1mPredicted Topic \u001b[0m\n",
      "like windows use linux ubuntu know good would one way \n",
      "\n"
     ]
    }
   ],
   "source": [
    "# Print the most likely topic model\n",
    "idxlist = [6, 1, 2, 4, 5]\n",
    "for idx in idxlist:\n",
    "    topic_te = sorted(ldamodel[corpus_test[idx]])[-1][0]\n",
    "    print '\\033[1m' + \"\\nText\", '\\033[0m'\n",
    "    print(utils.printTSV(sorted(X_test)[idx]))\n",
    "    print '\\033[1m' + \"Predicted Topic\", '\\033[0m'\n",
    "    utils.prettyPrint(ldatopics[topic_te], False)\n",
    "    print(\"\\n\")"
   ]
  }
 ],
 "metadata": {
  "kernelspec": {
   "display_name": "Python 2",
   "language": "python",
   "name": "python2"
  },
  "language_info": {
   "codemirror_mode": {
    "name": "ipython",
    "version": 2
   },
   "file_extension": ".py",
   "mimetype": "text/x-python",
   "name": "python",
   "nbconvert_exporter": "python",
   "pygments_lexer": "ipython2",
   "version": "2.7.13"
  }
 },
 "nbformat": 4,
 "nbformat_minor": 2
}
