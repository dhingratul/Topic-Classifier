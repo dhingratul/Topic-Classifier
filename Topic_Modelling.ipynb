{
 "cells": [
  {
   "cell_type": "code",
   "execution_count": 43,
   "metadata": {
    "collapsed": true
   },
   "outputs": [],
   "source": [
    "# Imports\n",
    "import glob\n",
    "import csv\n",
    "from gensim.models.phrases import Phrases, Phraser\n",
    "from nltk.corpus import stopwords\n",
    "from gensim.corpora import Dictionary\n",
    "from gensim.models import CoherenceModel, LdaModel, LsiModel, HdpModel\n",
    "import timeit\n",
    "import utils\n",
    "import pprint\n",
    "from sklearn.model_selection import train_test_split\n",
    "import matplotlib.pyplot as plt"
   ]
  },
  {
   "cell_type": "code",
   "execution_count": 19,
   "metadata": {
    "collapsed": true
   },
   "outputs": [],
   "source": [
    "# Split Data in Training and Testing set\n",
    "srch_str = 'dialogs/4/*.tsv'\n",
    "all_files = sorted(glob.glob(srch_str))\n",
    "X_train, X_test= train_test_split(all_files, test_size=0.1, random_state=0)"
   ]
  },
  {
   "cell_type": "code",
   "execution_count": 20,
   "metadata": {},
   "outputs": [
    {
     "data": {
      "text/plain": [
       "['dialogs/4/92237.tsv',\n",
       " 'dialogs/4/133611.tsv',\n",
       " 'dialogs/4/251383.tsv',\n",
       " 'dialogs/4/61098.tsv',\n",
       " 'dialogs/4/97786.tsv',\n",
       " 'dialogs/4/209410.tsv',\n",
       " 'dialogs/4/178701.tsv',\n",
       " 'dialogs/4/5544.tsv',\n",
       " 'dialogs/4/11152.tsv',\n",
       " 'dialogs/4/208348.tsv']"
      ]
     },
     "execution_count": 20,
     "metadata": {},
     "output_type": "execute_result"
    }
   ],
   "source": [
    "# Peek into Training Set\n",
    "X_train[:10]"
   ]
  },
  {
   "cell_type": "code",
   "execution_count": 21,
   "metadata": {},
   "outputs": [
    {
     "data": {
      "text/plain": [
       "['dialogs/4/78303.tsv',\n",
       " 'dialogs/4/197806.tsv',\n",
       " 'dialogs/4/119980.tsv',\n",
       " 'dialogs/4/25704.tsv',\n",
       " 'dialogs/4/963.tsv',\n",
       " 'dialogs/4/214077.tsv',\n",
       " 'dialogs/4/80273.tsv',\n",
       " 'dialogs/4/208635.tsv',\n",
       " 'dialogs/4/34820.tsv',\n",
       " 'dialogs/4/126671.tsv']"
      ]
     },
     "execution_count": 21,
     "metadata": {},
     "output_type": "execute_result"
    }
   ],
   "source": [
    "# Peek into Testing Set\n",
    "X_test[:10]"
   ]
  },
  {
   "cell_type": "code",
   "execution_count": 100,
   "metadata": {},
   "outputs": [
    {
     "name": "stdout",
     "output_type": "stream",
     "text": [
      "Help on function lemmatize_pos in module utils:\n",
      "\n",
      "lemmatize_pos(text)\n",
      "    Helper function to Remove POS tags with gensim Lemmatize\n",
      "    Input: {text}\n",
      "    -- text = String of words\n",
      "    Output: {result}\n",
      "    -- result = List with POS tags starting with 'J' and 'V' removed\n",
      "    Note:\n",
      "        Please run from within create_data()\n",
      "\n"
     ]
    }
   ],
   "source": [
    "help(utils.lemmatize_pos)"
   ]
  },
  {
   "cell_type": "code",
   "execution_count": 135,
   "metadata": {},
   "outputs": [
    {
     "name": "stdout",
     "output_type": "stream",
     "text": [
      "\u001b[1m0 :  \u001b[0m ['just', 'bit', 'skype', 'let', 'bit', 'also', 'help', 'codec', 'music', 'film', 'tutorial', 'ubuntu', 'forum', 'here', 'ubuntuforum', 'showthread', 'highlight', 'skype', 'way', 'tutorial'] \n",
      "\n",
      "\u001b[1m1 :  \u001b[0m ['pavillion', 'driver', 'mouse', 'tom', 'storm', 'thank', 'tom'] \n",
      "\n",
      "\u001b[1m2 :  \u001b[0m ['change', 'screen', 'resolution', 'message', 'server', 'not', 'extension', 'way', 'working', 'well', 'log', 'out', 'gdm', 'configure', 'root', 'then', 'root', 'config', 'etc', 'config', 'xorg', 'conf', 'just', 'ati', 'driver', 'matter', 'still', 'configureit', 'nvidia', 'driver', 'atus'] \n",
      "\n",
      "\u001b[1m3 :  \u001b[0m ['type', 'asoundconf', 'gtk', 'default', 'configuration', 'file', 'asoundrc', 'asoundconf', 'asoundrc', 'text', 'editor', 'there', 'line', 'asound', 'tellign', 'file', 'asoundconf', 'not', 'anywhere', 'type', 'sorry', 'not', 'ubuntu', 'dot', 'maybe', 'somebody', 'here', 'look', 'oyu'] \n",
      "\n",
      "\u001b[1m4 :  \u001b[0m ['anyone', 'network', 'mount', 'dev', 'xxx', 'mnt', 'yyywhat', 'problemugh', 'irc', 'client'] \n",
      "\n"
     ]
    }
   ],
   "source": [
    "# Compare effect of \"more involved\" lemmatization True vs False\n",
    "num = 5\n",
    "start_time = timeit.default_timer()\n",
    "corpus_ = utils.create_data(X_train[:num], lemmat=True)            \n",
    "elapsed_true = timeit.default_timer() - start_time\n",
    "pp = pprint.PrettyPrinter(indent=1, width = 12)\n",
    "utils.prettyPrint(corpus_) "
   ]
  },
  {
   "cell_type": "code",
   "execution_count": 136,
   "metadata": {},
   "outputs": [
    {
     "name": "stdout",
     "output_type": "stream",
     "text": [
      "\u001b[1m0 :  \u001b[0m [u'hello', u'all', u'just', u'installed', u'bit', u'and', u'need', u'help', u'installing', u'skype', u'won', u'let', u'because', u'bit', u'also', u'need', u'some', u'help', u'installing', u'codecs', u'for', u'music', u'and', u'films', u'there', u'was', u'tutorial', u'the', u'ubuntu', u'forums', u'here', u'http', u'ubuntuforums', u'org', u'showthread', u'php', u'highlight', u'skype', u'amd', u'you', u'have', u'link', u'way', u'locate', u'the', u'tutorial'] \n",
      "\n",
      "\u001b[1m1 :  \u001b[0m [u'installing', u'linux', u'laptop', u'its', u'pavillion', u'will', u'need', u'special', u'drivers', u'for', u'the', u'mouse', u'and', u'such', u'nice', u'tom', u'storm', u'thanks', u'was', u'that', u'nice', u'tom', u'for'] \n",
      "\n",
      "\u001b[1m2 :  \u001b[0m [u'when', u'try', u'change', u'screen', u'resolution', u'get', u'message', u'saying', u'the', u'server', u'does', u'not', u'support', u'the', u'xrandr', u'extension', u'think', u'better', u'way', u'get', u'working', u'well', u'this', u'log', u'out', u'shut', u'down', u'gdm', u'configure', u'root', u'and', u'then', u'copy', u'the', u'resulting', u'root', u'config', u'etc', u'config', u'xorg', u'conf', u'depending', u'whether', u'you', u'run', u'org', u'xfree', u'just', u'installed', u'the', u'new', u'ati', u'drivers', u'does', u'that', u'matter', u'should', u'still', u'try', u'configureit', u'worked', u'for', u'with', u'nvidia', u'drivers', u'should', u'work', u'with', u'ati'] \n",
      "\n",
      "\u001b[1m3 :  \u001b[0m [u'when', u'type', u'asoundconf', u'gtk', u'responds', u'you', u'need', u'make', u'sure', u'asoundconf', u'active', u'default', u'asoundconf', u'configuration', u'file', u'asoundrc', u'asoundconf', u'and', u'must', u'included', u'asoundrc', u'open', u'this', u'file', u'make', u'sure', u'don', u'understand', u'what', u'wants', u'open', u'asoundrc', u'text', u'editor', u'and', u'see', u'there', u'line', u'pointing', u'the', u'asoundrc', u'asound', u'conf', u'file', u'that', u'what', u'tellign', u'you', u'doi', u'looked', u'that', u'file', u'and', u'asoundrc', u'asoundconf', u'not', u'mentioned', u'anywhere', u'don', u'know', u'what', u'wants', u'type', u'into', u'the', u'file', u'sorry', u'but', u'not', u'running', u'ubuntu', u'can', u'tell', u'you', u'what', u'its', u'suppose', u'dot', u'look', u'like', u'maybe', u'somebody', u'else', u'here', u'can', u'take', u'look', u'for', u'oyu'] \n",
      "\n",
      "\u001b[1m4 :  \u001b[0m [u'anyone', u'around', u'for', u'network', u'related', u'mount', u'dev', u'xxx', u'mnt', u'yyywhat', u'the', u'problemugh', u'hang', u'let', u'get', u'decent', u'irc', u'client'] \n",
      "\n"
     ]
    }
   ],
   "source": [
    "# Compare Lemmat true vs False\n",
    "start_time = timeit.default_timer()\n",
    "corpus_ = utils.create_data(X_train[:num], lemmat=False)            \n",
    "elapsed_false = timeit.default_timer() - start_time\n",
    "pp = pprint.PrettyPrinter(indent=4)\n",
    "utils.prettyPrint(corpus_)"
   ]
  },
  {
   "cell_type": "code",
   "execution_count": 137,
   "metadata": {},
   "outputs": [
    {
     "name": "stdout",
     "output_type": "stream",
     "text": [
      "Elapsed time for 5 files with Lemmatize is 0.0543961524963 sec and 0.0023021697998 sec without Lemmatize. This is a 23.6282104391 times slowdown at the cost of better outputs\n"
     ]
    }
   ],
   "source": [
    "# Comparison \n",
    "print('Elapsed time for {} files with Lemmatize is {} sec and {} sec without Lemmatize. This is a {} times slowdown at the cost of better outputs'.format(num, elapsed_true, elapsed_false, elapsed_true/float(elapsed_false)))"
   ]
  },
  {
   "cell_type": "markdown",
   "metadata": {},
   "source": [
    "## If we only could look ahead in future to see, if this is worth it ?\n",
    "### With lemmatize\n",
    "![alt text](lemmatize.png)\n",
    "### Without Lemmatize\n",
    "![alt text](no_lemmatize.png)\n",
    "\n",
    "As it is evident that with the best model(LDA), using lemmatize has no return on our investment of time, we skip this high compute process."
   ]
  },
  {
   "cell_type": "code",
   "execution_count": 122,
   "metadata": {},
   "outputs": [
    {
     "name": "stdout",
     "output_type": "stream",
     "text": [
      "Help on function create_data in module utils:\n",
      "\n",
      "create_data(files, lemmat)\n",
      "    Helper function to create data from .tsv files by appling simple_preprocess using gensim and\n",
      "    lemmatize(optional)\n",
      "    Input: {files, lemmat}\n",
      "    -- files = List of input file directories using glob.glob\n",
      "    -- lemmat = Boolean {True, False} To enabale lemmatize by removing pos starting with J or V\n",
      "    Output: {corpus_}\n",
      "    -- corpus_ = Corpus of words as a list of list, with each list containig processed words from each\n",
      "     document\n",
      "\n"
     ]
    }
   ],
   "source": [
    "help(utils.create_data)"
   ]
  },
  {
   "cell_type": "code",
   "execution_count": 26,
   "metadata": {},
   "outputs": [],
   "source": [
    "# Stick with Lemmatize False\n",
    "corpus_ = utils.create_data(sorted(X_train), lemmat=False)            "
   ]
  },
  {
   "cell_type": "code",
   "execution_count": 138,
   "metadata": {},
   "outputs": [
    {
     "name": "stdout",
     "output_type": "stream",
     "text": [
      "\u001b[1m0 :  \u001b[0m [u'hello', u'all', u'just', u'installed', u'bit', u'and', u'need', u'help', u'installing', u'skype', u'won', u'let', u'because', u'bit', u'also', u'need', u'some', u'help', u'installing', u'codecs', u'for', u'music', u'and', u'films', u'there', u'was', u'tutorial', u'the', u'ubuntu', u'forums', u'here', u'http', u'ubuntuforums', u'org', u'showthread', u'php', u'highlight', u'skype', u'amd', u'you', u'have', u'link', u'way', u'locate', u'the', u'tutorial'] \n",
      "\n",
      "\u001b[1m1 :  \u001b[0m [u'installing', u'linux', u'laptop', u'its', u'pavillion', u'will', u'need', u'special', u'drivers', u'for', u'the', u'mouse', u'and', u'such', u'nice', u'tom', u'storm', u'thanks', u'was', u'that', u'nice', u'tom', u'for'] \n",
      "\n",
      "\u001b[1m2 :  \u001b[0m [u'when', u'try', u'change', u'screen', u'resolution', u'get', u'message', u'saying', u'the', u'server', u'does', u'not', u'support', u'the', u'xrandr', u'extension', u'think', u'better', u'way', u'get', u'working', u'well', u'this', u'log', u'out', u'shut', u'down', u'gdm', u'configure', u'root', u'and', u'then', u'copy', u'the', u'resulting', u'root', u'config', u'etc', u'config', u'xorg', u'conf', u'depending', u'whether', u'you', u'run', u'org', u'xfree', u'just', u'installed', u'the', u'new', u'ati', u'drivers', u'does', u'that', u'matter', u'should', u'still', u'try', u'configureit', u'worked', u'for', u'with', u'nvidia', u'drivers', u'should', u'work', u'with', u'ati'] \n",
      "\n",
      "\u001b[1m3 :  \u001b[0m [u'when', u'type', u'asoundconf', u'gtk', u'responds', u'you', u'need', u'make', u'sure', u'asoundconf', u'active', u'default', u'asoundconf', u'configuration', u'file', u'asoundrc', u'asoundconf', u'and', u'must', u'included', u'asoundrc', u'open', u'this', u'file', u'make', u'sure', u'don', u'understand', u'what', u'wants', u'open', u'asoundrc', u'text', u'editor', u'and', u'see', u'there', u'line', u'pointing', u'the', u'asoundrc', u'asound', u'conf', u'file', u'that', u'what', u'tellign', u'you', u'doi', u'looked', u'that', u'file', u'and', u'asoundrc', u'asoundconf', u'not', u'mentioned', u'anywhere', u'don', u'know', u'what', u'wants', u'type', u'into', u'the', u'file', u'sorry', u'but', u'not', u'running', u'ubuntu', u'can', u'tell', u'you', u'what', u'its', u'suppose', u'dot', u'look', u'like', u'maybe', u'somebody', u'else', u'here', u'can', u'take', u'look', u'for', u'oyu'] \n",
      "\n",
      "\u001b[1m4 :  \u001b[0m [u'anyone', u'around', u'for', u'network', u'related', u'mount', u'dev', u'xxx', u'mnt', u'yyywhat', u'the', u'problemugh', u'hang', u'let', u'get', u'decent', u'irc', u'client'] \n",
      "\n"
     ]
    }
   ],
   "source": [
    "# Peek into Corpus\n",
    "utils.prettyPrint(corpus_[0:5])"
   ]
  },
  {
   "cell_type": "code",
   "execution_count": 28,
   "metadata": {},
   "outputs": [
    {
     "data": {
      "text/plain": [
       "[u'Ubuntu', u'gnome shell']"
      ]
     },
     "execution_count": 28,
     "metadata": {},
     "output_type": "execute_result"
    }
   ],
   "source": [
    "# Bigram Creation\n",
    "bigram = Phrases(corpus_, min_count=2, threshold=2, delimiter=b' ')\n",
    "bigram_ = Phraser(bigram)\n",
    "tokens_ = bigram_[corpus_]\n",
    "# Investigate bigrams\n",
    "bigram_[['Ubuntu', 'gnome', 'shell']]"
   ]
  },
  {
   "cell_type": "code",
   "execution_count": 29,
   "metadata": {
    "collapsed": true
   },
   "outputs": [],
   "source": [
    "# NLTK Stop words\n",
    "stops = set(stopwords.words('english'))  # nltk stopwords list"
   ]
  },
  {
   "cell_type": "code",
   "execution_count": 55,
   "metadata": {
    "collapsed": true
   },
   "outputs": [],
   "source": [
    "# Create Bag of Word corpus for training set\n",
    "train_texts = utils.process_texts(corpus_, stops, bigram_)\n",
    "dictionary = Dictionary(train_texts)\n",
    "corpus = [dictionary.doc2bow(text) for text in train_texts]"
   ]
  },
  {
   "cell_type": "code",
   "execution_count": 134,
   "metadata": {},
   "outputs": [
    {
     "name": "stdout",
     "output_type": "stream",
     "text": [
      "\u001b[1m0 :  \u001b[0m [(0, 1), (1, 1), (2, 1), (3, 1), (4, 1), (5, 1), (6, 1), (7, 1), (8, 1), (9, 1), (10, 1)] \n",
      "\n",
      "\u001b[1m1 :  \u001b[0m [(11, 1), (12, 1), (13, 1), (14, 1), (15, 2), (16, 1), (17, 1), (18, 1), (19, 1), (20, 1), (21, 1), (22, 1), (23, 1), (24, 1), (25, 2), (26, 1), (27, 1), (28, 1)] \n",
      "\n",
      "\u001b[1m2 :  \u001b[0m [(29, 1), (30, 1), (31, 1), (32, 1), (33, 1), (34, 1), (35, 1), (36, 1), (37, 1), (38, 1), (39, 1), (40, 1), (41, 1)] \n",
      "\n",
      "\u001b[1m3 :  \u001b[0m [(42, 2), (43, 1), (44, 1), (45, 1), (46, 1), (47, 1), (48, 1), (49, 1), (50, 1), (51, 1), (52, 1), (53, 1), (54, 1), (55, 1), (56, 1), (57, 1), (58, 1)] \n",
      "\n",
      "\u001b[1m4 :  \u001b[0m [(59, 1), (60, 2), (61, 1), (62, 1), (63, 1), (64, 2), (65, 1), (66, 1), (67, 1), (68, 1), (69, 1), (70, 1), (71, 1)] \n",
      "\n"
     ]
    }
   ],
   "source": [
    "# Structure of Corpus as Bag of Words\n",
    "utils.prettyPrint(corpus[:5])"
   ]
  },
  {
   "cell_type": "code",
   "execution_count": 31,
   "metadata": {
    "collapsed": true
   },
   "outputs": [],
   "source": [
    "# Topic Modelling -- LSI\n",
    "lsimodel = LsiModel(corpus=corpus, num_topics=10, id2word=dictionary)\n",
    "lsimodel.show_topics(num_topics=10)\n",
    "lsitopics = lsimodel.show_topics(formatted=False)"
   ]
  },
  {
   "cell_type": "code",
   "execution_count": 139,
   "metadata": {},
   "outputs": [
    {
     "name": "stdout",
     "output_type": "stream",
     "text": [
      "\u001b[1m0 :  \u001b[0m [u'ubuntu', u'install', u'get', u'use', u'help', u'know', u'windows', u'need', u'anyone', u'like'] \n",
      "\n",
      "\u001b[1m1 :  \u001b[0m [u'lamers', u'ubuntu', u'get', u'install', u'apt', u'sudo', u'know', u'file', u'need', u'anyone'] \n",
      "\n",
      "\u001b[1m2 :  \u001b[0m [u'ubuntu', u'lamers', u'get', u'install', u'apt', u'sudo', u'know', u'file', u'need', u'anyone'] \n",
      "\n",
      "\u001b[1m3 :  \u001b[0m [u'use', u'install', u'get', u'paste', u'ubuntu', u'apt', u'http', u'enter', u'flood', u'punctuation'] \n",
      "\n",
      "\u001b[1m4 :  \u001b[0m [u'com', u'get', u'windows', u'http', u'apt', u'paste', u'boot', u'linux', u'know', u'like'] \n",
      "\n",
      "\u001b[1m5 :  \u001b[0m [u'feces', u'install', u'use', u'help', u'anyone', u'know', u'com', u'http', u'windows', u'www'] \n",
      "\n",
      "\u001b[1m6 :  \u001b[0m [u'nyan', u'feces', u'use', u'install', u'know', u'help', u'anyone', u'linux', u'apt', u'ubuntu'] \n",
      "\n",
      "\u001b[1m7 :  \u001b[0m [u'linux', u'sucks', u'love', u'cock', u'com', u'file', u'microsoft', u'http', u'get', u'know'] \n",
      "\n",
      "\u001b[1m8 :  \u001b[0m [u'love', u'cock', u'linux', u'sucks', u'lamp', u'know', u'feces', u'com', u'http', u'microsoft'] \n",
      "\n",
      "\u001b[1m9 :  \u001b[0m [u'echo', u'vomit', u'feces', u'use', u'epic', u'file', u'help', u'sucks', u'paste', u'epicplease'] \n",
      "\n"
     ]
    }
   ],
   "source": [
    "utils.prettyPrint(lsitopics)"
   ]
  },
  {
   "cell_type": "code",
   "execution_count": 33,
   "metadata": {},
   "outputs": [],
   "source": [
    "# HDP\n",
    "hdpmodel = HdpModel(corpus=corpus, id2word=dictionary)\n",
    "hdpmodel.show_topics()\n",
    "hdptopics = hdpmodel.show_topics(formatted=False)"
   ]
  },
  {
   "cell_type": "code",
   "execution_count": 140,
   "metadata": {},
   "outputs": [
    {
     "name": "stdout",
     "output_type": "stream",
     "text": [
      "\u001b[1m0 :  \u001b[0m [u'ubuntu', u'get', u'install', u'use', u'know', u'help', u'anyone', u'need', u'like', u'want', u'try', u'apt', u'one', u'using', u'file', u'sudo', u'installed', u'windows', u'would', u'linux'] \n",
      "\n",
      "\u001b[1m1 :  \u001b[0m [u'ubuntu', u'install', u'get', u'use', u'know', u'windows', u'like', u'anyone', u'help', u'need', u'want', u'one', u'using', u'linux', u'boot', u'try', u'would', u'file', u'installed', u'partition'] \n",
      "\n",
      "\u001b[1m2 :  \u001b[0m [u'ubuntu', u'use', u'get', u'install', u'know', u'help', u'anyone', u'need', u'like', u'windows', u'using', u'want', u'http', u'one', u'linux', u'try', u'com', u'installed', u'file', u'work'] \n",
      "\n",
      "\u001b[1m3 :  \u001b[0m [u'ubuntu', u'get', u'install', u'use', u'know', u'help', u'like', u'anyone', u'need', u'want', u'using', u'one', u'file', u'try', u'linux', u'windows', u'would', u'installed', u'work', u'apt'] \n",
      "\n",
      "\u001b[1m4 :  \u001b[0m [u'ubuntu', u'get', u'install', u'use', u'know', u'like', u'anyone', u'help', u'need', u'want', u'one', u'windows', u'using', u'try', u'linux', u'file', u'would', u'installed', u'work', u'way'] \n",
      "\n",
      "\u001b[1m5 :  \u001b[0m [u'ubuntu', u'get', u'install', u'use', u'know', u'like', u'anyone', u'help', u'need', u'want', u'try', u'one', u'linux', u'windows', u'file', u'using', u'installed', u'would', u'work', u'apt'] \n",
      "\n",
      "\u001b[1m6 :  \u001b[0m [u'ubuntu', u'get', u'install', u'use', u'know', u'anyone', u'help', u'like', u'need', u'want', u'file', u'one', u'linux', u'windows', u'using', u'try', u'would', u'installed', u'work', u'apt'] \n",
      "\n",
      "\u001b[1m7 :  \u001b[0m [u'ubuntu', u'install', u'get', u'use', u'know', u'anyone', u'like', u'help', u'need', u'want', u'one', u'linux', u'using', u'windows', u'try', u'file', u'installed', u'would', u'work', u'apt'] \n",
      "\n",
      "\u001b[1m8 :  \u001b[0m [u'ubuntu', u'get', u'install', u'use', u'know', u'anyone', u'help', u'like', u'need', u'want', u'linux', u'one', u'file', u'using', u'windows', u'try', u'would', u'work', u'installed', u'apt'] \n",
      "\n",
      "\u001b[1m9 :  \u001b[0m [u'ubuntu', u'get', u'install', u'use', u'know', u'anyone', u'help', u'like', u'need', u'want', u'one', u'linux', u'file', u'using', u'windows', u'try', u'would', u'work', u'installed', u'apt'] \n",
      "\n"
     ]
    }
   ],
   "source": [
    "utils.prettyPrint(hdptopics[:10])"
   ]
  },
  {
   "cell_type": "code",
   "execution_count": 36,
   "metadata": {
    "collapsed": true
   },
   "outputs": [],
   "source": [
    "# LDA\n",
    "ldamodel = LdaModel(corpus=corpus, num_topics=10, id2word=dictionary)\n",
    "ldatopics = ldamodel.show_topics(formatted=False)"
   ]
  },
  {
   "cell_type": "code",
   "execution_count": 141,
   "metadata": {},
   "outputs": [
    {
     "name": "stdout",
     "output_type": "stream",
     "text": [
      "\u001b[1m0 :  \u001b[0m [u'usb', u'drive', u'mount', u'dev', u'iso', u'dvd', u'device', u'hard', u'ntfs', u'disk'] \n",
      "\n",
      "\u001b[1m1 :  \u001b[0m [u'install', u'get', u'apt', u'package', u'sudo', u'installed', u'ubuntu', u'firefox', u'packages', u'flash'] \n",
      "\n",
      "\u001b[1m2 :  \u001b[0m [u'ubuntu', u'install', u'boot', u'grub', u'windows', u'partition', u'get', u'installed', u'upgrade', u'problem'] \n",
      "\n",
      "\u001b[1m3 :  \u001b[0m [u'file', u'command', u'sudo', u'files', u'user', u'root', u'etc', u'log', u'use', u'home'] \n",
      "\n",
      "\u001b[1m4 :  \u001b[0m [u'card', u'bit', u'driver', u'drivers', u'nvidia', u'xorg', u'kernel', u'work', u'ubuntu', u'wireless'] \n",
      "\n",
      "\u001b[1m5 :  \u001b[0m [u'server', u'network', u'ubuntu', u'use', u'ssh', u'desktop', u'connect', u'using', u'internet', u'kde'] \n",
      "\n",
      "\u001b[1m6 :  \u001b[0m [u'ubuntu', u'http', u'com', u'org', u'www', u'php', u'help', u'https', u'paste', u'google'] \n",
      "\n",
      "\u001b[1m7 :  \u001b[0m [u'ubuntu', u'help', u'anyone', u'know', u'ask', u'channel', u'question', u'please', u'someone', u'support'] \n",
      "\n",
      "\u001b[1m8 :  \u001b[0m [u'gnome', u'click', u'compiz', u'screen', u'window', u'right', u'desktop', u'alt', u'system', u'settings'] \n",
      "\n",
      "\u001b[1m9 :  \u001b[0m [u'like', u'windows', u'use', u'linux', u'ubuntu', u'know', u'good', u'would', u'one', u'way'] \n",
      "\n"
     ]
    }
   ],
   "source": [
    "utils.prettyPrint(ldatopics)"
   ]
  },
  {
   "cell_type": "code",
   "execution_count": 38,
   "metadata": {
    "collapsed": true
   },
   "outputs": [],
   "source": [
    "# Evaluation\n",
    "lsitopics = [[word for word, prob in topic] for topicid, topic in lsitopics]\n",
    "hdptopics = [[word for word, prob in topic] for topicid, topic in hdptopics]\n",
    "ldatopics = [[word for word, prob in topic] for topicid, topic in ldatopics]"
   ]
  },
  {
   "cell_type": "code",
   "execution_count": 39,
   "metadata": {
    "collapsed": true
   },
   "outputs": [],
   "source": [
    "# Coherence\n",
    "lsi_coherence = CoherenceModel(topics=lsitopics[:10], texts=train_texts, dictionary=dictionary, window_size=10).get_coherence()\n",
    "hdp_coherence = CoherenceModel(topics=hdptopics[:10], texts=train_texts, dictionary=dictionary, window_size=10).get_coherence()\n",
    "lda_coherence = CoherenceModel(topics=ldatopics, texts=train_texts, dictionary=dictionary, window_size=10).get_coherence()"
   ]
  },
  {
   "cell_type": "code",
   "execution_count": 41,
   "metadata": {},
   "outputs": [
    {
     "name": "stdout",
     "output_type": "stream",
     "text": [
      "Help on function evaluate_bar_graph in module utils:\n",
      "\n",
      "evaluate_bar_graph(coherences, indices)\n",
      "    Function to plot bar graph.\n",
      "    \n",
      "    coherences: list of coherence values\n",
      "    indices: Indices to be used to mark bars. Length of this and coherences should be equal.\n",
      "\n"
     ]
    }
   ],
   "source": [
    "help(utils.evaluate_bar_graph)"
   ]
  },
  {
   "cell_type": "code",
   "execution_count": 46,
   "metadata": {},
   "outputs": [
    {
     "data": {
      "image/png": "[encoded data removed]",
      "text/plain": [
       "<matplotlib.figure.Figure at 0x7f024e561050>"
      ]
     },
     "metadata": {},
     "output_type": "display_data"
    }
   ],
   "source": [
    "plt = utils.evaluate_bar_graph([lsi_coherence, hdp_coherence, lda_coherence], ['LSI', 'HDP', 'LDA'])\n",
    "plt.show()"
   ]
  },
  {
   "cell_type": "markdown",
   "metadata": {},
   "source": [
    "## LSI vs HDP vs LDA\n",
    "As it is evident from the structure of outputs from LSI, LDA and HDP models, LDA captures the different models better as compared to the other two. In case of LSI, although a first few topics are relevant, they seemingly become more unrelated as we go down the list. With HDP, the output is just the same topic for all the 10 occurences. LDA on the other hand produces mmore coherrent topics. This is also supported by the coherence bar plot that puts LDA at the top. For this reason, predictions on the test set is produced by using the LDA model "
   ]
  },
  {
   "cell_type": "code",
   "execution_count": 92,
   "metadata": {},
   "outputs": [],
   "source": [
    "# Test on Unseen Data\n",
    "corpus_te = utils.create_data(sorted(X_test), lemmat=True)      \n",
    "test_texts = utils.process_texts(corpus_te, stops, bigram_test)\n",
    "corpus_test = [dictionary.doc2bow(text) for text in test_texts]\n",
    "outputs = ldamodel[corpus_test]"
   ]
  },
  {
   "cell_type": "code",
   "execution_count": 151,
   "metadata": {},
   "outputs": [
    {
     "data": {
      "text/plain": [
       "[(2, 0.14189858267178726),\n",
       " (3, 0.13215307025629125),\n",
       " (4, 0.19568276684415192),\n",
       " (5, 0.4986819948750785)]"
      ]
     },
     "execution_count": 151,
     "metadata": {},
     "output_type": "execute_result"
    }
   ],
   "source": [
    "# Peek into Outputs\n",
    "idx = 0\n",
    "outputs[idx]"
   ]
  },
  {
   "cell_type": "code",
   "execution_count": 191,
   "metadata": {},
   "outputs": [
    {
     "name": "stdout",
     "output_type": "stream",
     "text": [
      "\u001b[1m\n",
      "Text \u001b[0m\n",
      "Okay, thanks, how would I add Vista to it? I was told that I should use a recovery disc to run the fixmbr command...is that another option? Oh and I have a USB stick...could I possibly fix the mbr that way?you can install ubuntu on usb stick and recover windows mbr with windows cdget ubuntu iso and unetbootinunetbootin\n",
      "\u001b[1mPredicted Topic \u001b[0m\n",
      "gnome click compiz screen window right desktop alt system settings \n",
      "\n",
      "\u001b[1m\n",
      "Text \u001b[0m\n",
      "sudu ifup eth0 is that renew IP?that brings up an interface, not necessarily renew the DHCP lease.well you have to do sudo ifdown eth0 first?even then, an ifup doesn't necessarily renew a DHCP lease.\n",
      "\u001b[1mPredicted Topic \u001b[0m\n",
      "like windows use linux ubuntu know good would one way \n",
      "\n",
      "\u001b[1m\n",
      "Text \u001b[0m\n",
      "I might have done something catastrophic to my computer.  I hope someone can help. I get the strangest warning when I log in now. Every time.....what does it sayYou'll probably need to go to the terminal and edit the permissions using sudo/sudo what lyag said to do. that'll probably fix it.\n",
      "\u001b[1mPredicted Topic \u001b[0m\n",
      "file command sudo files user root etc log use home \n",
      "\n",
      "\u001b[1m\n",
      "Text \u001b[0m\n",
      "Yesterday I shrunk my partitions using Gparted (shrunk NTFS (Vista), grew ext3), and everything went almost well. Windows wouldn't work anyore as it kept booting into the EISA partition instead but I didn't let that bother me since Ubuntu was workin fine. Today the ext3 filesystem went into read-only mode, and when I rebooted, it did a fsck and then told me to do it manually. I went into the LiveCD and did sudo fsck -y /dev/sda3 and it said*** ext3 journal has been deleted - filesystem is now ext2 only ***. How do I mount this? I need to recover a few things before I format and start overtry to mount it as ext2How?\n",
      "\u001b[1mPredicted Topic \u001b[0m\n",
      "like windows use linux ubuntu know good would one way \n",
      "\n",
      "\u001b[1m\n",
      "Text \u001b[0m\n",
      "hello, Ubuntu 11.04 on my laptop is really slow browsing on the internet or even pingining sites like google takes too long (it takes 36791ms to  \"ping -c 5 google.com\"), i have gentoo installed on vmware in the same laptop and the internet is allright, any ideas?how long does it take to `nslookup google.com` ?Or, pick something you haven't tested recently, nslookup yahoo.comits almost instantly\n",
      "\u001b[1mPredicted Topic \u001b[0m\n",
      "like windows use linux ubuntu know good would one way \n",
      "\n"
     ]
    }
   ],
   "source": [
    "# Print the most likely topic model\n",
    "idxlist = [6, 1, 2, 4, 5]\n",
    "for idx in idxlist:\n",
    "    topic_te = sorted(ldamodel[corpus_test[idx]])[-1][0]\n",
    "    print '\\033[1m' + \"\\nText\", '\\033[0m'\n",
    "    print(utils.printTSV(sorted(X_test)[idx]))\n",
    "    print '\\033[1m' + \"Predicted Topic\", '\\033[0m'\n",
    "    utils.prettyPrint(ldatopics[topic_te], False)\n",
    "    print(\"\\n\")"
   ]
  },
  {
   "cell_type": "markdown",
   "metadata": {},
   "source": [
    "## Final Discussion\n",
    "Having said that the use of lemmatize_pos() is a high compute process, and given the difference in coherence is not large, it was wise not to include it in the current notebook. But, having trained both offline, it is noteable to see that some of topics with lemmatize_pos() make much more logical sese given the context of Ubunut chat logs. Here is a snippet of the topics from LDA with lemmatize_pos(), you can take a look at the outputs of all three in Lemmatize.MD \n",
    "```\n",
    " [(0,\n",
    "  [(u'like', 0.019936494500384202),\n",
    "   (u'linux', 0.01922543274704342),\n",
    "   (u'ubuntu', 0.019181715274700542),\n",
    "   (u'bit', 0.018379438337814035),\n",
    "   (u'use', 0.016838695873487942),\n",
    "   (u'good', 0.012987848101923233),\n",
    "   (u'would', 0.011625407402758157),\n",
    "   (u'know', 0.010284818921766612),\n",
    "   (u'much', 0.00826832917682067),\n",
    "   (u'wine', 0.00822975579923516)]),\n",
    " (1,\n",
    "  [(u'http', 0.06498649150863434),\n",
    "   (u'com', 0.04629081898370439),\n",
    "   (u'org', 0.03392139487869618),\n",
    "   (u'www', 0.029268400233338307),\n",
    "   (u'php', 0.02337330498542816),\n",
    "   (u'ubuntu', 0.018859326046874677),\n",
    "   (u'paste', 0.013856368385495659),\n",
    "   (u'google', 0.012347804977438388),\n",
    "   (u'ubuntuforums', 0.011440536899319629),\n",
    "   (u'dvd', 0.010860969283671591)]),\n",
    " (2,\n",
    "  [(u'firefox', 0.01926540466461088),\n",
    "   (u'user', 0.016854024023353096),\n",
    "   (u'root', 0.014966127326405973),\n",
    "   (u'flash', 0.013245833047762199),\n",
    "   (u'password', 0.0123816285277202),\n",
    "   (u'log', 0.01112218180632628),\n",
    "   (u'login', 0.010008486289083305),\n",
    "   (u'sudo', 0.009669824613454227),\n",
    "   (u'alt', 0.008691741832214555),\n",
    "   (u'try', 0.008390580736679577)]),\n",
    " (3,\n",
    "  [(u'ubuntu', 0.06692430197609832),\n",
    "   (u'help', 0.033687473681958346),\n",
    "   (u'version', 0.014515606861849224),\n",
    "   (u'anyone', 0.014115147147723415),\n",
    "   (u'install', 0.012238822754522169),\n",
    "   (u'need', 0.011694466088822362),\n",
    "   (u'please', 0.011465700414391471),\n",
    "   (u'ask', 0.01112559462936882),\n",
    "   (u'upgrade', 0.011110576009365975),\n",
    "   (u'someone', 0.01109696965234292)]),\n",
    " (4,\n",
    "  [(u'gnome', 0.016769437544511597),\n",
    "   (u'server', 0.01487079401319659),\n",
    "   (u'know', 0.011784973396423502),\n",
    "   (u'like', 0.011342700003413947),\n",
    "   (u'use', 0.010511219065247077),\n",
    "   (u'want', 0.009509000291618054),\n",
    "   (u'desktop', 0.009239407318521574),\n",
    "   (u'right', 0.009099580286517002),\n",
    "   (u'click', 0.009014566891798853),\n",
    "   (u'ssh', 0.008800566548540022)]),\n",
    " (5,\n",
    "  [(u'screen', 0.03320093977288388),\n",
    "   (u'xorg', 0.026976315634940195),\n",
    "   (u'conf', 0.021640748360937614),\n",
    "   (u'etc', 0.01831302710319233),\n",
    "   (u'resolution', 0.014111300295932504),\n",
    "   (u'monitor', 0.013035890553048745),\n",
    "   (u'network', 0.009564635389746575),\n",
    "   (u'change', 0.009465135151161154),\n",
    "   (u'black', 0.0077315078577609555),\n",
    "   (u'eth', 0.007701087965363023)]),\n",
    " (6,\n",
    "  [(u'get', 0.03662224904455495),\n",
    "   (u'install', 0.03570076746910878),\n",
    "   (u'apt', 0.025250383099620015),\n",
    "   (u'sudo', 0.021836994715360852),\n",
    "   (u'file', 0.021542233645578293),\n",
    "   (u'package', 0.017533567891411778),\n",
    "   (u'command', 0.013774712882060324),\n",
    "   (u'files', 0.010019117678032503),\n",
    "   (u'installed', 0.009836706307544182),\n",
    "   (u'need', 0.009211691025170004)]),\n",
    " (7,\n",
    "  [(u'ubuntu', 0.02778389826550948),\n",
    "   (u'boot', 0.021250620926553037),\n",
    "   (u'windows', 0.01907387673880063),\n",
    "   (u'install', 0.016720484405691544),\n",
    "   (u'grub', 0.014435289340268342),\n",
    "   (u'drive', 0.014192142906311428),\n",
    "   (u'partition', 0.013955199227910815),\n",
    "   (u'mount', 0.009183191964344903),\n",
    "   (u'use', 0.008794310398953323),\n",
    "   (u'usb', 0.008255431657393158)]),\n",
    " (8,\n",
    "  [(u'card', 0.016742320287698908),\n",
    "   (u'drivers', 0.013698803109134515),\n",
    "   (u'driver', 0.013626819226647807),\n",
    "   (u'sound', 0.013247924368652277),\n",
    "   (u'nvidia', 0.012897248193301281),\n",
    "   (u'work', 0.01289646970844682),\n",
    "   (u'get', 0.012216622972415376),\n",
    "   (u'anyone', 0.011748165617560924),\n",
    "   (u'video', 0.010764530363920706),\n",
    "   (u'problem', 0.010493399137961964)]),\n",
    " (9,\n",
    "  [(u'ubuntu', 0.023846525105913903),\n",
    "   (u'network', 0.017214475575620822),\n",
    "   (u'desktop', 0.015875223909988318),\n",
    "   (u'internet', 0.011386408326624584),\n",
    "   (u'use', 0.011008943508695579),\n",
    "   (u'kde', 0.010931137346701071),\n",
    "   (u'connect', 0.010675542413863575),\n",
    "   (u'windows', 0.010581603068116332),\n",
    "   (u'wireless', 0.010535014180669825),\n",
    "   (u'using', 0.009436083927482533)])]\n",
    " ```"
   ]
  }
 ],
 "metadata": {
  "kernelspec": {
   "display_name": "Python 2",
   "language": "python",
   "name": "python2"
  },
  "language_info": {
   "codemirror_mode": {
    "name": "ipython",
    "version": 2
   },
   "file_extension": ".py",
   "mimetype": "text/x-python",
   "name": "python",
   "nbconvert_exporter": "python",
   "pygments_lexer": "ipython2",
   "version": "2.7.13"
  }
 },
 "nbformat": 4,
 "nbformat_minor": 2
}
